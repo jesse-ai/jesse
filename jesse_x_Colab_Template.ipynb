{
  "nbformat": 4,
  "nbformat_minor": 0,
  "metadata": {
    "colab": {
      "name": "jesse x Colab Template.ipynb",
      "provenance": [],
      "collapsed_sections": [],
      "history_visible": true,
      "machine_shape": "hm",
      "include_colab_link": true
    },
    "kernelspec": {
      "display_name": "Python 3",
      "name": "python3"
    },
    "language_info": {
      "name": "python"
    },
    "accelerator": "TPU"
  },
  "cells": [
    {
      "cell_type": "markdown",
      "metadata": {
        "id": "view-in-github",
        "colab_type": "text"
      },
      "source": [
        "<a href=\"https://colab.research.google.com/github/teehanming/jesse/blob/master/jesse_x_Colab_Template.ipynb\" target=\"_parent\"><img src=\"https://colab.research.google.com/assets/colab-badge.svg\" alt=\"Open In Colab\"/></a>"
      ]
    },
    {
      "cell_type": "markdown",
      "metadata": {
        "id": "JeOYPW1r6Ccs"
      },
      "source": [
        "# Quick Tutorial"
      ]
    },
    {
      "cell_type": "markdown",
      "metadata": {
        "id": "rJ6tckUSoVrr"
      },
      "source": [
        "This colab is to sync between your Colab & Goole Drive and train using Google Colab CPU\n",
        "\n",
        "> **Standard Account**: You will usually get 2 Cores\n",
        "\n",
        "\n",
        "> **Pro Account**: I'm able to get 40 cores !! Just $10/month.  Pick **TPU** when choosing Hardware Accelerator\n",
        "\n",
        "\n",
        "###  How to Start\n",
        "1. Upload your jesseData to drive\n",
        "2. Default folder Directory: jesse.trade/jesseData\n",
        "3. Run those cells!\n",
        "\n",
        "###Caution\n",
        "* Colab Pro can stay connected for up to 24 hours, and idle timeouts are relatively lenient. Durations are not guaranteed, though, and idle timeouts may sometimes vary. [Colab Pro](https://colab.research.google.com/signup?)\n",
        "\n",
        "* In the free version of Colab, notebooks can run for at most 12 hours, and idle timeouts are much stricter than in Colab Pro. [More info](https://research.google.com/colaboratory/faq.html#:~:text=How%20long%20can%20notebooks%20run,or%20based%20on%20your%20usage.) \n",
        "\n",
        "\n",
        "###Extra Tips\n",
        "\n",
        "1.   To sync your local pc + drive + colab: [download drive for desktop](https://www.google.com/drive/download/)\n",
        "\n",
        "\n",
        "\n",
        "\n",
        "###Credit:\n",
        "*   Written by Didi27\n",
        "*   Advised by Piddy\n",
        "\n"
      ]
    },
    {
      "cell_type": "markdown",
      "metadata": {
        "id": "ngu8RvIx5_Y3"
      },
      "source": [
        "# Google Drive Mount"
      ]
    },
    {
      "cell_type": "code",
      "metadata": {
        "colab": {
          "base_uri": "https://localhost:8080/"
        },
        "id": "Rn4IiwPkR-uE",
        "cellView": "form",
        "outputId": "d97c64d7-15a4-455f-9c8c-6cc47be82cd8"
      },
      "source": [
        "#@title Mount Google Drive\n",
        "from google.colab import drive # import drive from google colab\n",
        "\n",
        "ROOT = \"/content/drive\"     # default location for the drive\n",
        "print(ROOT)                 # print content of ROOT (Optional)\n",
        "\n",
        "drive.mount(ROOT)           # we mount the google drive at /content/drive"
      ],
      "execution_count": null,
      "outputs": [
        {
          "output_type": "stream",
          "text": [
            "/content/drive\n",
            "Mounted at /content/drive\n"
          ],
          "name": "stdout"
        }
      ]
    },
    {
      "cell_type": "markdown",
      "metadata": {
        "id": "BKF7tVWE5dVZ"
      },
      "source": [
        "# Setup"
      ]
    },
    {
      "cell_type": "code",
      "metadata": {
        "id": "Psw0P2n7c_o8",
        "cellView": "form"
      },
      "source": [
        "#@title 1. Install jesse.trade requirement\n",
        "!source <(curl -fsSL https://raw.githubusercontent.com/teehanming/stack-installer/master/ubuntu-18.04.sh) -y"
      ],
      "execution_count": null,
      "outputs": []
    },
    {
      "cell_type": "code",
      "metadata": {
        "id": "rSXd6FJ3Ixo8",
        "cellView": "form"
      },
      "source": [
        "#@title 2. Setup details\n",
        "from os.path import join  \n",
        "\n",
        "#@markdown Path to your project on Google Drive\n",
        "MY_GOOGLE_DRIVE_PATH = 'My Drive/jesse.trade/' #@param {type:\"string\"}\n",
        "\n",
        "\n",
        "#@markdown Your jesse bot name\n",
        "bot_name = \"YOUR_BOT_NAME\" #@param {type:\"string\"}\n",
        "\n",
        "#-----------------------\n",
        "# No need change below\n",
        "#------------------------\n",
        "ROOT = '/content/drive'\n",
        "PROJECT_PATH = join(ROOT, MY_GOOGLE_DRIVE_PATH)\n",
        "\n",
        "# It's good to print out the value if you are not sure \n",
        "print(\"PROJECT_PATH: \", PROJECT_PATH)   \n",
        "\n",
        "# In case we haven't created the folder already; we will create a folder in the project path \n",
        "!mkdir \"{PROJECT_PATH}\"    \n",
        "\n"
      ],
      "execution_count": null,
      "outputs": []
    },
    {
      "cell_type": "code",
      "metadata": {
        "id": "1GaUxhXObBw_",
        "cellView": "form"
      },
      "source": [
        "#@title 3. Sync Drive to Colab\n",
        "#@markdown - Upload your jesseData to your Google Drive with same directory as \"MY_GOOGLE_DRIVE_PATH\" if you already have one.\n",
        "\n",
        "#@markdown - Skip if you want to start new\n",
        "\n",
        "!rsync -aP/ \"{PROJECT_PATH}\"/*  ./   # use remote sync to copy from google drive to local runtime google colab\n"
      ],
      "execution_count": null,
      "outputs": []
    },
    {
      "cell_type": "markdown",
      "metadata": {
        "id": "0l6EddxT5PO3"
      },
      "source": [
        "# Import Data\n"
      ]
    },
    {
      "cell_type": "code",
      "metadata": {
        "id": "We8-fD4H2PtD",
        "cellView": "form"
      },
      "source": [
        "#@title Import Candles\n",
        "%cd \"/content/jesseData/{bot_name}\"\n",
        "Exchange = 'Binance' #@param [\"Binance\", \"Coinbase Pro\", \"Bitfinex\"]\n",
        "Coin_pair = 'BTC-USDT' #@param {type:\"string\"}\n",
        "start_date = '2018-09-07' #@param {type:\"date\"}\n",
        "!jesse import-candles '{Exchange}' '{Coin_pair}' '{start_date}' --skip-confirmation"
      ],
      "execution_count": null,
      "outputs": []
    },
    {
      "cell_type": "markdown",
      "metadata": {
        "id": "WK55NWtH53xk"
      },
      "source": [
        "# Production"
      ]
    },
    {
      "cell_type": "code",
      "metadata": {
        "colab": {
          "base_uri": "https://localhost:8080/"
        },
        "id": "fxdKxHGfqaAE",
        "cellView": "form",
        "outputId": "0fa1172a-27fd-46aa-9b8c-0483165cc219"
      },
      "source": [
        "#@title Check Colab CPU\n",
        "\n",
        "import psutil, os, time\n",
        "\n",
        "\n",
        "!lscpu |grep 'Model name'\n",
        "!lscpu | grep 'Socket(s):'\n",
        "!lscpu | grep 'Core(s) per socket:'\n",
        "!lscpu | grep 'Thread(s) per core'\n",
        "!lscpu | grep \"MHz\"\n",
        "print('Total CPU Core:', psutil.cpu_count()) \n"
      ],
      "execution_count": null,
      "outputs": [
        {
          "output_type": "stream",
          "text": [
            "Model name:          Intel(R) Xeon(R) CPU @ 2.30GHz\n",
            "Socket(s):           1\n",
            "Core(s) per socket:  20\n",
            "Thread(s) per core:  2\n",
            "CPU MHz:             2299.998\n",
            "Total CPU Core: 40\n"
          ],
          "name": "stdout"
        }
      ]
    },
    {
      "cell_type": "code",
      "metadata": {
        "id": "WWodlQv42s6d",
        "colab": {
          "base_uri": "https://localhost:8080/"
        },
        "cellView": "form",
        "outputId": "1a6c313e-464e-4a4d-d5ac-4aa6035c7425"
      },
      "source": [
        "#@title Backtest\n",
        "#@markdown Date: YYYY/MM/DD\n",
        "%cd \"/content/jesseData/{bot_name}\"\n",
        "b_start_date = '2021-01-01' #@param {type:\"date\"}\n",
        "b_end_date = '2021-03-30' #@param {type:\"date\"}\n",
        "print(\"Starting Backtesting...\")\n",
        "!jesse backtest --csv --tradingview --full-reports --json '{b_start_date}' '{b_end_date}'"
      ],
      "execution_count": null,
      "outputs": [
        {
          "output_type": "stream",
          "text": [
            "/content/jesseData/didi27_bot\n",
            "Starting Backtesting...\n",
            "\u001b[2J\u001b[1;1Hloading candles...\n",
            "\u001b[2J\u001b[1;1H CANDLES              |\n",
            "----------------------+--------------------------\n",
            " period               |    88 days (2.93 months)\n",
            " starting-ending date | 2021-01-01 => 2021-03-30\n",
            "\n",
            "\n",
            " exchange   | symbol   | timeframe   | strategy     | DNA\n",
            "------------+----------+-------------+--------------+-------\n",
            " Binance    | BTC-USDT | 15m         | adaptive_hma |\n",
            "\n",
            "\n",
            "\u001b[?25lExecuting simulation...  [####################################]  100%          \u001b[?25h\n",
            "Executed backtest simulation in:  20.11 seconds\n",
            "INFO:numexpr.utils:Note: NumExpr detected 40 cores but \"NUMEXPR_MAX_THREADS\" not set, so enforcing safe limit of 8.\n",
            "INFO:numexpr.utils:NumExpr defaulting to 8 threads.\n",
            "\n",
            "\n",
            " METRICS                         |\n",
            "---------------------------------+---------------------------------\n",
            " Total Closed Trades             |                              95\n",
            " Total Net Profit                |            -3,050.4255 (-30.5%)\n",
            " Starting => Finishing Balance   |              10,000 => 6,949.57\n",
            " Total Open Trades               |                               0\n",
            " Open PL                         |                               0\n",
            " Total Paid Fees                 |                        1,674.02\n",
            " Max Drawdown                    |                         -35.36%\n",
            " Annual Return                   |                         -77.52%\n",
            " Expectancy                      |                 -32.11 (-0.32%)\n",
            " Avg Win | Avg Loss              |                 152.45 | 101.65\n",
            " Ratio Avg Win / Avg Loss        |                             1.5\n",
            " Percent Profitable              |                             27%\n",
            " Longs | Shorts                  |                       47% | 53%\n",
            " Avg Holding Time                |  1 hour, 35 minutes, 10 seconds\n",
            " Winning Trades Avg Holding Time | 2 hours, 33 minutes, 27 seconds\n",
            " Losing Trades Avg Holding Time  |  1 hour, 13 minutes, 12 seconds\n",
            " Sharpe Ratio                    |                           -3.72\n",
            " Calmar Ratio                    |                           -2.19\n",
            " Sortino Ratio                   |                           -5.37\n",
            " Omega Ratio                     |                            0.56\n",
            " Market Change                   |                          99.01%\n",
            "\n",
            "\n",
            "\n",
            "JSON output saved at: \n",
            "storage/json/backtest-2021-06-06T09-45-29.json\n",
            "\n",
            "Pine-editor output saved at: \n",
            "storage/trading-view-pine-editor/backtest-2021-06-06T09-45-29.txt\n",
            "\n",
            "CSV output saved at: \n",
            "storage/csv/backtest-2021-06-06T09-45-29.csv\n",
            "WARNING:matplotlib.font_manager:findfont: Font family ['Arial'] not found. Falling back to DejaVu Sans.\n",
            "\n",
            "Full report output saved at:\n",
            "storage/full-reports/BT-2021-06-06T09-45-30.html\n"
          ],
          "name": "stdout"
        }
      ]
    },
    {
      "cell_type": "code",
      "metadata": {
        "id": "oLBoP2kN5Fqa",
        "cellView": "form"
      },
      "source": [
        "#@title Training - Optimization\n",
        "import psutil, os, time\n",
        "\n",
        "%cd \"/content/jesseData/{bot_name}\"\n",
        "Total_CPU_Cores = psutil.cpu_count()\n",
        "%cd jesseData/{bot_name}\n",
        "json = True #@param {type:\"boolean\"}\n",
        "csv = True #@param {type:\"boolean\"}\n",
        "debug = True #@param {type:\"boolean\"}\n",
        "\n",
        "op_start_date = '2019-01-01' #@param {type:\"date\"}\n",
        "op_end_date = '2020-05-31' #@param {type:\"date\"}\n",
        "Optimal_Total = 80 #@param {type:\"integer\"}\n",
        "\n",
        "cmd = \"jesse optimize\"\n",
        "\n",
        "if (json):\n",
        "  cmd+=\" --json\"\n",
        "\n",
        "if (csv):\n",
        "  cmd+=\" --csv\"\n",
        "\n",
        "if (debug):\n",
        "  cmd+=\" --debug\"\n",
        "\n",
        "cpu = \"--cpu \"\n",
        "cpu+= str(Total_CPU_Cores)\n",
        "\n",
        "optimize_cmd = f\"{cmd} {cpu} {op_start_date} {op_end_date} {Optimal_Total}\"\n",
        "\n",
        "print(\"Starting optimizing...\")\n",
        "\n",
        "!$optimize_cmd\n"
      ],
      "execution_count": null,
      "outputs": []
    },
    {
      "cell_type": "markdown",
      "metadata": {
        "id": "WIpEgyXH5M2m"
      },
      "source": [
        "# SAVE\n",
        "###Choose any method you want to save\n",
        "\n",
        "Recommended to sync to Drive"
      ]
    },
    {
      "cell_type": "code",
      "metadata": {
        "id": "p2E4EKhCWEC5",
        "cellView": "form"
      },
      "source": [
        "#@title Download bot/storage to local system\n",
        "#@markdown Download storage file as a zip.\n",
        "\n",
        "#@markdown At this moment, I dont know why it download twice.\n",
        "!zip -r /content/storage.zip /content/jesseData/didi27_bot/storage\n",
        "\n",
        "from google.colab import files\n",
        "files.download('/content/storage.zip')"
      ],
      "execution_count": null,
      "outputs": []
    },
    {
      "cell_type": "code",
      "metadata": {
        "id": "-2VmoodH7GqH",
        "cellView": "form"
      },
      "source": [
        "#@title Sync Colab to Drive\n",
        "!rsync -aPv /content/jesseData /content/drive/MyDrive/jesse.trade/\n"
      ],
      "execution_count": null,
      "outputs": []
    }
  ]
}